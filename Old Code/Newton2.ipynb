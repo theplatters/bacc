{
 "cells": [
  {
   "cell_type": "code",
   "execution_count": 1,
   "metadata": {},
   "outputs": [],
   "source": [
    "include(\"wrapper.jl\")\n",
    "using .Hysteresis\n",
    "using LinearAlgebra"
   ]
  },
  {
   "cell_type": "code",
   "execution_count": 36,
   "metadata": {},
   "outputs": [],
   "source": [
    "A = diagm([5.0, 3.0, .002]);\n",
    "b = [1.0 , 2.0 , 3.0];\n",
    "χ = 0.1;\n",
    "\n",
    "h = mₚ = [1.0, 2.0, 3.0];"
   ]
  },
  {
   "cell_type": "code",
   "execution_count": 37,
   "metadata": {},
   "outputs": [],
   "source": [
    "S(m) = 0.5 * (m - b)' * inv(A) * (m - b) - 5;"
   ]
  },
  {
   "cell_type": "code",
   "execution_count": 38,
   "metadata": {},
   "outputs": [
    {
     "data": {
      "text/plain": [
       "∂²U (generic function with 1 method)"
      ]
     },
     "metadata": {},
     "output_type": "display_data"
    }
   ],
   "source": [
    "U(u) = u' * A * u + b' * u + 5;\n",
    "∂U(u) = A * u + b\n",
    "∂²U(u) = A"
   ]
  },
  {
   "cell_type": "code",
   "execution_count": 39,
   "metadata": {},
   "outputs": [],
   "source": [
    "restrainedProblem = RestrainedProblem(χ, h , mₚ, S)\n",
    "x0 = zeros(3) + rand(3)\n",
    "\n",
    "intfRes = Interface(restrainedProblem,x0);"
   ]
  },
  {
   "cell_type": "code",
   "execution_count": 40,
   "metadata": {},
   "outputs": [
    {
     "name": "stdout",
     "output_type": "stream",
     "text": [
      "Converged after 3 Iterations with error 1.166074955970151e-15\n",
      "Converged to [1.0448607294040366, 2.0891879870542955, 3.005746122391721]\n",
      "∂S at the minium: [0.008972145880807325, 0.02972932901809851, 2.8730611958605046]\n"
     ]
    }
   ],
   "source": [
    "sol = solve(intfRes)\n",
    "\n",
    "if(!sol.convergent)\n",
    "    println(\"Solution did not converge\")\n",
    "    printn(\"Failed after $(sol.iter) Iterations with error $(sol.err)\")\n",
    "else\n",
    "    println(\"Converged after $(sol.iter) Iterations with error $(sol.err)\")\n",
    "    println(\"Converged to $(sol.xk)\")\n",
    "\n",
    "    println(\"∂S at the minium: $(restrainedProblem.∂S(sol.xk))\")\n",
    "end"
   ]
  },
  {
   "cell_type": "code",
   "execution_count": 41,
   "metadata": {},
   "outputs": [],
   "source": [
    "unrestrainedProblem = UnrestrainedProblem(χ, h , mₚ, U,jac = ∂U, hes = ∂²U);\n",
    "x0 = [200.0, 200.0, 200.0];\n",
    "\n",
    "intfUnres = Interface(unrestrainedProblem,x0);"
   ]
  },
  {
   "cell_type": "code",
   "execution_count": 44,
   "metadata": {},
   "outputs": [
    {
     "ename": "MethodError",
     "evalue": "MethodError: no method matching solve(::Interface{UnrestrainedProblem}; maxIter::Int64)\n\nClosest candidates are:\n  solve(::Interface{T}; maxiter, tol, algorithm) where T got unsupported keyword argument \"maxIter\"\n   @ Main.Hysteresis ~/Schreibtisch/Bachelorarbeit/solvers.jl:12\n",
     "output_type": "error",
     "traceback": [
      "MethodError: no method matching solve(::Interface{UnrestrainedProblem}; maxIter::Int64)\n",
      "\n",
      "Closest candidates are:\n",
      "  solve(::Interface{T}; maxiter, tol, algorithm) where T got unsupported keyword argument \"maxIter\"\n",
      "   @ Main.Hysteresis ~/Schreibtisch/Bachelorarbeit/solvers.jl:12\n",
      "\n",
      "\n",
      "Stacktrace:\n",
      " [1] kwerr(::NamedTuple{(:maxIter,), Tuple{Int64}}, ::Function, ::Interface{UnrestrainedProblem})\n",
      "   @ Base ./error.jl:165\n",
      " [2] top-level scope\n",
      "   @ ~/Schreibtisch/Bachelorarbeit/Newton2.ipynb:1"
     ]
    }
   ],
   "source": [
    "sol = solve(intfUnres,maxIter = 100000)\n",
    "\n",
    "if(!sol.convergent)\n",
    "    println(\"Solution did not converge\")\n",
    "    println(\"Failed after $(sol.iter) Iterations with error $(sol.err)\")\n",
    "else\n",
    "    println(\"Converged after $(sol.iter) Iterations with error $(sol.err)\")\n",
    "    println(\"Converged to $(sol.xk)\")\n",
    "\n",
    "    println(\"∂S at the minium: $(unrestrainedProblem.∂U(sol.xk))\")\n",
    "end"
   ]
  },
  {
   "cell_type": "code",
   "execution_count": null,
   "metadata": {},
   "outputs": [],
   "source": []
  }
 ],
 "metadata": {
  "kernelspec": {
   "display_name": "Julia 1.9.0",
   "language": "julia",
   "name": "julia-1.9"
  },
  "language_info": {
   "file_extension": ".jl",
   "mimetype": "application/julia",
   "name": "julia",
   "version": "1.9.0"
  },
  "orig_nbformat": 4
 },
 "nbformat": 4,
 "nbformat_minor": 2
}
