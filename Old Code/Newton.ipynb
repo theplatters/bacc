{
 "cells": [
  {
   "cell_type": "code",
   "execution_count": 5,
   "id": "d76192a3-90d5-4ea6-8c4e-7d6231cddb4e",
   "metadata": {},
   "outputs": [],
   "source": [
    "using Plots, ForwardDiff,LinearAlgebra,Roots, BenchmarkTools"
   ]
  },
  {
   "attachments": {},
   "cell_type": "markdown",
   "id": "f6fc7edf-2ec1-4e6d-bdf2-9a5b5d0eef92",
   "metadata": {},
   "source": [
    "## Funktionendefinitionen \n",
    "Definition der Funktionen $M_{an}$, $m$ und $\\nabla (S - \\langle m,m_p \\rangle)= m - m_p$ \n",
    "\n",
    "Außerdem wird das Problem auf dem Kreis parametrisiert. Wir haben $$\\nabla Prob(r \\sin \\phi \\cos \\psi,r \\sin \\phi \\sin \\psi,r \\cos \\phi) = (m(r \\sin \\phi \\cos \\psi,r \\sin \\phi \\sin \\psi,r \\cos \\phi)-m_p) J_{r,\\phi,\\psi}(r \\sin \\phi \\cos \\psi,r \\sin \\phi \\sin \\psi,r \\cos \\phi)$$"
   ]
  },
  {
   "cell_type": "code",
   "execution_count": 15,
   "id": "38ebe92d-0b2b-40ec-894e-8f463b7306ad",
   "metadata": {},
   "outputs": [
    {
     "data": {
      "text/plain": [
       "∇ProbOnBall (generic function with 2 methods)"
      ]
     },
     "execution_count": 15,
     "metadata": {},
     "output_type": "execute_result"
    }
   ],
   "source": [
    "\n",
    "Man(hr,ms,A) = 2ms/π * atan(hr/A)\n",
    "m(hr,ms,A) = Man(norm(hr),ms,A) * hr ./ norm(hr)\n",
    "m(hr) = m(hr,1.23*10^3,38)\n",
    "∇Prob(u,mp) = m(u) .- mp\n",
    "transformToEuklidean(ϕ,θ,r,h) =  h + [r * sin(θ) * cos(ϕ),r * sin(θ) * sin(ϕ),r * cos(θ)]\n",
    "\n",
    "∇ProbOnBall(ϕ,θ,r,h,mp) = (m(transformToEuklidean(ϕ,θ,r,h)) .- mp)' * J(r,ϕ,θ)\n",
    "∇ProbOnBall(u,r,h,mp) = ∇ProbOnBall(u...,r,h,mp)"
   ]
  },
  {
   "attachments": {},
   "cell_type": "markdown",
   "id": "86ac4c57-6cc5-417d-947c-d6d94cb7b840",
   "metadata": {},
   "source": [
    "## Newton Verfahren"
   ]
  },
  {
   "cell_type": "code",
   "execution_count": 16,
   "id": "3f680820-c322-4376-acb6-74bf25a86076",
   "metadata": {},
   "outputs": [
    {
     "data": {
      "text/plain": [
       "newton (generic function with 3 methods)"
      ]
     },
     "execution_count": 16,
     "metadata": {},
     "output_type": "execute_result"
    }
   ],
   "source": [
    "function newton(f,x,eps = 10^-15,maxiter = 200)\n",
    "   \n",
    "    for i in 1:maxiter\n",
    "        \n",
    "        J = ForwardDiff.jacobian(f,x)\n",
    "        xn = (J \\ -f(x)) + x\n",
    "        if(norm(xn -x) < eps)\n",
    "            return xn\n",
    "        end\n",
    "        x = xn\n",
    "    end\n",
    "    print(\"Reached MaxIter, solution is maybe not convergent\")\n",
    "    return x\n",
    "end"
   ]
  },
  {
   "attachments": {},
   "cell_type": "markdown",
   "id": "962cb41e-58ca-4649-9a26-2664f68be649",
   "metadata": {},
   "source": [
    "## Jacobi Matrix der Transformation"
   ]
  },
  {
   "cell_type": "code",
   "execution_count": 17,
   "id": "295b5480-28f3-44f7-b7f0-1c951ca52b20",
   "metadata": {},
   "outputs": [
    {
     "data": {
      "text/plain": [
       "J (generic function with 1 method)"
      ]
     },
     "execution_count": 17,
     "metadata": {},
     "output_type": "execute_result"
    }
   ],
   "source": [
    "J(r,ϕ,θ) = \n",
    "    [[sin(θ)*cos(ϕ), r * cos(θ) * cos(ϕ), -r * sin(θ) * sin(ϕ)],\n",
    "    [sin(θ)* sin(ϕ),r * cos(θ) * sin(ϕ),r * sin(θ) * cos(ϕ)],\n",
    "    [cos(θ), -r * sin(θ),0]]"
   ]
  },
  {
   "attachments": {},
   "cell_type": "markdown",
   "id": "a5ef9074-54c3-4faa-91a8-cda30d2bfc13",
   "metadata": {},
   "source": [
    "We now solve $$\\arg\\min_{u \\in \\mathring K(h)} S(u) - \\langle u, m_p \\rangle$$ with the newton method. If the solution is not in $\\mathring K(h)$, then  we solve on the ball $\\partial K(h)$. For this we set $g(\\theta,\\phi) = r \\sin(θ)  \\cos(ϕ),r  \\sin(θ) \\sin(ϕ),r \\cos(θ)$ and solve $$\\nabla(S(g(\\theta,\\phi)) - <m,g(\\theta,\\phi)> = 0$$"
   ]
  },
  {
   "cell_type": "code",
   "execution_count": 1,
   "id": "fb303f16-b7bf-4f09-8231-45c72e64c1ee",
   "metadata": {},
   "outputs": [
    {
     "data": {
      "text/plain": [
       "solver (generic function with 2 methods)"
      ]
     },
     "metadata": {},
     "output_type": "display_data"
    }
   ],
   "source": [
    "struct ProblemStructure\n",
    "    χ ::Real\n",
    "    h ::Vector\n",
    "    mp ::Real\n",
    "    Prob :: Function\n",
    "    ∇Prob :: Function\n",
    "    ∇ProbOnBall :: Function\n",
    "\n",
    "    function ProblemStructure(χ,h,mp,Prob,∇Prob)\n",
    "        ∇ProbOnBall(ϕ,θ,r,h,mp) = ∇Prob(transformToEuklidean(ϕ,θ,r,h),h,mp)' * J(r,ϕ,θ)\n",
    "        ProblemStructure(\n",
    "            χ,\n",
    "            h,\n",
    "            mp,\n",
    "            Prob,\n",
    "            ∇Prob,\n",
    "            (u,r,h,mp) -> ∇ProbOnBall(u...,r,h,mp)\n",
    "        )\n",
    "    end\n",
    "end\n",
    "\n",
    "function solver(s ::ProblemStructure)\n",
    "    \n",
    "    hr = newton((u) -> ∇Prob(u,s.h,s.mp),[0.1,0.1,0.1])\n",
    "\n",
    "    if(norm(hr .- s.h) >= s.χ)\n",
    "        #println(\"Solution is not in K(h), searching on the edge instead\")\n",
    "\n",
    "        ans = newton((u) -> ∇ProbOnBall(u...,χ,s.h,s.mp),[0.4,π-0.5])\n",
    "        hr = transformToEuklidean(ans...,s.χ,s.h)\n",
    "    end\n",
    "    return hr\n",
    "end\n",
    "\n",
    "solver(χ,h,mp) = solve(ProblemStructure(χ,h,mp))"
   ]
  },
  {
   "cell_type": "code",
   "execution_count": 38,
   "id": "14160a8f-c386-4293-9efa-64746e9490ea",
   "metadata": {},
   "outputs": [
    {
     "data": {
      "text/plain": [
       "BenchmarkTools.Trial: 9008 samples with 5 evaluations.\n",
       " Range \u001b[90m(\u001b[39m\u001b[36m\u001b[1mmin\u001b[22m\u001b[39m … \u001b[35mmax\u001b[39m\u001b[90m):  \u001b[39m\u001b[36m\u001b[1m  6.006 μs\u001b[22m\u001b[39m … \u001b[35m863.051 μs\u001b[39m  \u001b[90m┊\u001b[39m GC \u001b[90m(\u001b[39mmin … max\u001b[90m): \u001b[39m 0.00% … 66.63%\n",
       " Time  \u001b[90m(\u001b[39m\u001b[34m\u001b[1mmedian\u001b[22m\u001b[39m\u001b[90m):     \u001b[39m\u001b[34m\u001b[1m104.188 μs               \u001b[22m\u001b[39m\u001b[90m┊\u001b[39m GC \u001b[90m(\u001b[39mmedian\u001b[90m):    \u001b[39m 0.00%\n",
       " Time  \u001b[90m(\u001b[39m\u001b[32m\u001b[1mmean\u001b[22m\u001b[39m ± \u001b[32mσ\u001b[39m\u001b[90m):   \u001b[39m\u001b[32m\u001b[1m110.657 μs\u001b[22m\u001b[39m ± \u001b[32m 84.032 μs\u001b[39m  \u001b[90m┊\u001b[39m GC \u001b[90m(\u001b[39mmean ± σ\u001b[90m):  \u001b[39m12.43% ± 14.75%\n",
       "\n",
       "  \u001b[39m█\u001b[39m \u001b[39m \u001b[39m \u001b[39m \u001b[39m \u001b[39m \u001b[39m \u001b[39m \u001b[39m \u001b[39m \u001b[39m \u001b[39m█\u001b[34m▇\u001b[39m\u001b[32m▅\u001b[39m\u001b[39m▄\u001b[39m▃\u001b[39m▄\u001b[39m▇\u001b[39m▅\u001b[39m▄\u001b[39m▂\u001b[39m \u001b[39m \u001b[39m \u001b[39m \u001b[39m \u001b[39m \u001b[39m \u001b[39m \u001b[39m \u001b[39m \u001b[39m▁\u001b[39m▁\u001b[39m▁\u001b[39m▁\u001b[39m▁\u001b[39m \u001b[39m \u001b[39m \u001b[39m \u001b[39m \u001b[39m \u001b[39m \u001b[39m \u001b[39m \u001b[39m \u001b[39m \u001b[39m \u001b[39m \u001b[39m \u001b[39m \u001b[39m \u001b[39m \u001b[39m \u001b[39m \u001b[39m \u001b[39m \u001b[39m \u001b[39m \u001b[39m \u001b[39m \u001b[39m▂\n",
       "  \u001b[39m█\u001b[39m▅\u001b[39m▁\u001b[39m▁\u001b[39m▁\u001b[39m▁\u001b[39m▁\u001b[39m▁\u001b[39m▁\u001b[39m▁\u001b[39m▁\u001b[39m▁\u001b[39m█\u001b[34m█\u001b[39m\u001b[32m█\u001b[39m\u001b[39m█\u001b[39m█\u001b[39m█\u001b[39m█\u001b[39m█\u001b[39m█\u001b[39m█\u001b[39m█\u001b[39m▆\u001b[39m▇\u001b[39m▆\u001b[39m▆\u001b[39m▆\u001b[39m▆\u001b[39m▆\u001b[39m▇\u001b[39m█\u001b[39m█\u001b[39m█\u001b[39m█\u001b[39m█\u001b[39m█\u001b[39m█\u001b[39m▇\u001b[39m▆\u001b[39m▅\u001b[39m▆\u001b[39m▆\u001b[39m▆\u001b[39m▆\u001b[39m▅\u001b[39m▇\u001b[39m▆\u001b[39m▆\u001b[39m▇\u001b[39m▇\u001b[39m▇\u001b[39m▇\u001b[39m▇\u001b[39m▆\u001b[39m▆\u001b[39m▆\u001b[39m▇\u001b[39m▇\u001b[39m▆\u001b[39m▆\u001b[39m \u001b[39m█\n",
       "  6.01 μs\u001b[90m       \u001b[39m\u001b[90mHistogram: \u001b[39m\u001b[90m\u001b[1mlog(\u001b[22m\u001b[39m\u001b[90mfrequency\u001b[39m\u001b[90m\u001b[1m)\u001b[22m\u001b[39m\u001b[90m by time\u001b[39m        458 μs \u001b[0m\u001b[1m<\u001b[22m\n",
       "\n",
       " Memory estimate\u001b[90m: \u001b[39m\u001b[33m6.08 KiB\u001b[39m, allocs estimate\u001b[90m: \u001b[39m\u001b[33m76\u001b[39m."
      ]
     },
     "execution_count": 38,
     "metadata": {},
     "output_type": "execute_result"
    }
   ],
   "source": [
    "prob"
   ]
  },
  {
   "cell_type": "code",
   "execution_count": 36,
   "id": "600a4510-6789-4e38-86fe-7c6b41ac0a54",
   "metadata": {},
   "outputs": [
    {
     "data": {
      "text/plain": [
       "3.6736736736736737"
      ]
     },
     "execution_count": 36,
     "metadata": {},
     "output_type": "execute_result"
    }
   ],
   "source": []
  },
  {
   "cell_type": "code",
   "execution_count": null,
   "id": "4f79ce5a-43e9-416d-a129-58ba0513a2b9",
   "metadata": {},
   "outputs": [],
   "source": []
  }
 ],
 "metadata": {
  "kernelspec": {
   "display_name": "Julia 1.8.0",
   "language": "julia",
   "name": "julia-1.8"
  },
  "language_info": {
   "file_extension": ".jl",
   "mimetype": "application/julia",
   "name": "julia",
   "version": "1.8.0"
  }
 },
 "nbformat": 4,
 "nbformat_minor": 5
}
